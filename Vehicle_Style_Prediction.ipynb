{
  "nbformat": 4,
  "nbformat_minor": 0,
  "metadata": {
    "colab": {
      "name": "Vehicle_Style_Prediction.ipynb",
      "provenance": [],
      "collapsed_sections": [],
      "authorship_tag": "ABX9TyNEhM6sw66heQw2X9Vzr812",
      "include_colab_link": true
    },
    "kernelspec": {
      "name": "python3",
      "display_name": "Python 3"
    },
    "language_info": {
      "name": "python"
    },
    "accelerator": "GPU"
  },
  "cells": [
    {
      "cell_type": "markdown",
      "metadata": {
        "id": "view-in-github",
        "colab_type": "text"
      },
      "source": [
        "<a href=\"https://colab.research.google.com/github/monuminu/Vehicle_Style_Prediction/blob/main/Vehicle_Style_Prediction.ipynb\" target=\"_parent\"><img src=\"https://colab.research.google.com/assets/colab-badge.svg\" alt=\"Open In Colab\"/></a>"
      ]
    },
    {
      "cell_type": "code",
      "metadata": {
        "colab": {
          "base_uri": "https://localhost:8080/"
        },
        "id": "lFja239_Nh9a",
        "outputId": "c44d561b-f62e-462e-bea9-4abe87b7850f"
      },
      "source": [
        "!unzip /content/Data.zip"
      ],
      "execution_count": 7,
      "outputs": [
        {
          "output_type": "stream",
          "text": [
            "unzip:  cannot find or open /content/Data.zip, /content/Data.zip.zip or /content/Data.zip.ZIP.\n"
          ],
          "name": "stdout"
        }
      ]
    },
    {
      "cell_type": "code",
      "metadata": {
        "id": "MVijP_neOTFk"
      },
      "source": [
        "# Importing desired modles\n",
        "import pandas as pd\n",
        "import numpy as np\n",
        "from numpy import inf\n",
        "import datetime\n",
        "import seaborn as sns\n",
        "import matplotlib.pyplot as plt\n",
        "import plotly.express as px\n",
        "from sklearn.preprocessing import LabelEncoder, StandardScaler\n",
        "from tqdm import tqdm\n",
        "from sklearn.model_selection import train_test_split\n",
        "from plotly.subplots import make_subplots\n",
        "import tensorflow.keras.layers as L\n",
        "import plotly.graph_objects as go\n",
        "import matplotlib.pyplot as plt\n",
        "import plotly.express as px\n",
        "import tensorflow as tf\n",
        "from tqdm import tqdm\n",
        "import seaborn as sns\n",
        "import pandas as pd\n",
        "import numpy as np\n",
        "import os\n",
        "%matplotlib inline"
      ],
      "execution_count": 8,
      "outputs": []
    },
    {
      "cell_type": "code",
      "metadata": {
        "id": "ejWza7eaUB9O"
      },
      "source": [
        "# Reading all the three rawdata files \n",
        "rawdata = pd.read_csv(\"/content/Train.csv\")\n",
        "traveldata = pd.read_csv(\"/content/Train_Vehicletravellingdata.csv\", index_col= None)\n",
        "weatherdata = pd.read_csv(\"/content/Train_WeatherData.csv\")"
      ],
      "execution_count": 9,
      "outputs": []
    },
    {
      "cell_type": "code",
      "metadata": {
        "id": "Ckd-CGADUHes"
      },
      "source": [
        "weatherdata = weatherdata.drop_duplicates().reset_index(drop = True)\n",
        "rawdata = rawdata.drop_duplicates().reset_index(drop = True)\n",
        "traveldata = traveldata.drop_duplicates().reset_index(drop = True)"
      ],
      "execution_count": 10,
      "outputs": []
    },
    {
      "cell_type": "code",
      "metadata": {
        "id": "02wSP6xuUwtk"
      },
      "source": [
        "weatherdata.columns = weatherdata.columns.str.replace(' ','_')\n",
        "rawdata.columns = rawdata.columns.str.replace(' ','_')\n",
        "traveldata.columns = traveldata.columns.str.replace(' ','_')"
      ],
      "execution_count": 11,
      "outputs": []
    },
    {
      "cell_type": "code",
      "metadata": {
        "colab": {
          "base_uri": "https://localhost:8080/",
          "height": 1000
        },
        "id": "00HcA5tpUyLx",
        "outputId": "8d0e5d60-9002-4095-bd36-13ef75706d05"
      },
      "source": [
        "# Checking the distribution of vehicle length and weight across different driving styles. \n",
        "rawdata.boxplot(column =  [\"Length_of_vehicle_in_cm\"], by = \"DrivingStyle\", figsize=(12, 6))\n",
        "rawdata.boxplot(column =  [\"weight_of_vehicle_in_kg\"], by = \"DrivingStyle\", figsize=(12, 6))"
      ],
      "execution_count": 12,
      "outputs": [
        {
          "output_type": "stream",
          "text": [
            "/usr/local/lib/python3.7/dist-packages/numpy/core/_asarray.py:83: VisibleDeprecationWarning:\n",
            "\n",
            "Creating an ndarray from ragged nested sequences (which is a list-or-tuple of lists-or-tuples-or ndarrays with different lengths or shapes) is deprecated. If you meant to do this, you must specify 'dtype=object' when creating the ndarray\n",
            "\n",
            "/usr/local/lib/python3.7/dist-packages/numpy/core/_asarray.py:83: VisibleDeprecationWarning:\n",
            "\n",
            "Creating an ndarray from ragged nested sequences (which is a list-or-tuple of lists-or-tuples-or ndarrays with different lengths or shapes) is deprecated. If you meant to do this, you must specify 'dtype=object' when creating the ndarray\n",
            "\n"
          ],
          "name": "stderr"
        },
        {
          "output_type": "execute_result",
          "data": {
            "text/plain": [
              "<matplotlib.axes._subplots.AxesSubplot at 0x7f74ab323150>"
            ]
          },
          "metadata": {
            "tags": []
          },
          "execution_count": 12
        },
        {
          "output_type": "display_data",
          "data": {
            "image/png": "[encoded data removed]",
            "text/plain": [
              "<Figure size 864x432 with 1 Axes>"
            ]
          },
          "metadata": {
            "tags": [],
            "needs_background": "light"
          }
        },
        {
          "output_type": "display_data",
          "data": {
            "image/png": "[encoded data removed]",
            "text/plain": [
              "<Figure size 864x432 with 1 Axes>"
            ]
          },
          "metadata": {
            "tags": [],
            "needs_background": "light"
          }
        }
      ]
    },
    {
      "cell_type": "code",
      "metadata": {
        "colab": {
          "base_uri": "https://localhost:8080/",
          "height": 492
        },
        "id": "7jFx8UQhU1ah",
        "outputId": "da066535-13c3-4a59-cb15-0d690d230efb"
      },
      "source": [
        "rawdata['Length_of_vehicle_in_cm'].hist(by=rawdata['DrivingStyle'], figsize=[12,6], alpha =.7)"
      ],
      "execution_count": 13,
      "outputs": [
        {
          "output_type": "execute_result",
          "data": {
            "text/plain": [
              "array([[<matplotlib.axes._subplots.AxesSubplot object at 0x7f74ab49d410>,\n",
              "        <matplotlib.axes._subplots.AxesSubplot object at 0x7f74ab456590>],\n",
              "       [<matplotlib.axes._subplots.AxesSubplot object at 0x7f74ab40ac10>,\n",
              "        <matplotlib.axes._subplots.AxesSubplot object at 0x7f74ab3ce2d0>]],\n",
              "      dtype=object)"
            ]
          },
          "metadata": {
            "tags": []
          },
          "execution_count": 13
        },
        {
          "output_type": "display_data",
          "data": {
            "image/png": "[encoded data removed]",
            "text/plain": [
              "<Figure size 864x432 with 4 Axes>"
            ]
          },
          "metadata": {
            "tags": [],
            "needs_background": "light"
          }
        }
      ]
    },
    {
      "cell_type": "code",
      "metadata": {
        "colab": {
          "base_uri": "https://localhost:8080/",
          "height": 409
        },
        "id": "V5wAJV1ZU2yU",
        "outputId": "598f16c2-a4ce-437a-97df-b498ab910aa3"
      },
      "source": [
        "cons_df = pd.concat([traveldata, weatherdata.drop(columns=['ID', 'Date_time'])], axis=1)\n",
        "cons_df = cons_df.merge(rawdata, on=['ID'])\n",
        "cons_df.head()"
      ],
      "execution_count": 14,
      "outputs": [
        {
          "output_type": "execute_result",
          "data": {
            "text/html": [
              "<div>\n",
              "<style scoped>\n",
              "    .dataframe tbody tr th:only-of-type {\n",
              "        vertical-align: middle;\n",
              "    }\n",
              "\n",
              "    .dataframe tbody tr th {\n",
              "        vertical-align: top;\n",
              "    }\n",
              "\n",
              "    .dataframe thead th {\n",
              "        text-align: right;\n",
              "    }\n",
              "</style>\n",
              "<table border=\"1\" class=\"dataframe\">\n",
              "  <thead>\n",
              "    <tr style=\"text-align: right;\">\n",
              "      <th></th>\n",
              "      <th>ID</th>\n",
              "      <th>Date_time</th>\n",
              "      <th>Lane_of_the_road</th>\n",
              "      <th>Speed_of_the_vehicle_(kph)</th>\n",
              "      <th>ID_of_the_preceding_vehicle</th>\n",
              "      <th>Speed_of_the_preceding_vehicle</th>\n",
              "      <th>Weight_of_the_preceding_vehicle</th>\n",
              "      <th>Length_of_preceding_vehicle</th>\n",
              "      <th>Time_gap_with_the_preceeding_vehicle_in_seconds</th>\n",
              "      <th>Road_Condition</th>\n",
              "      <th>Weather_details-Air_temperature</th>\n",
              "      <th>Precipitation</th>\n",
              "      <th>Precipitation_intensity</th>\n",
              "      <th>Relative_humidity</th>\n",
              "      <th>Wind_direction</th>\n",
              "      <th>Wind_speed_in_m/s</th>\n",
              "      <th>Day_time</th>\n",
              "      <th>Length_of_vehicle_in_cm</th>\n",
              "      <th>weight_of_vehicle_in_kg</th>\n",
              "      <th>Number_of_axles</th>\n",
              "      <th>DrivingStyle</th>\n",
              "    </tr>\n",
              "  </thead>\n",
              "  <tbody>\n",
              "    <tr>\n",
              "      <th>0</th>\n",
              "      <td>DR_24526</td>\n",
              "      <td>21-03-2012 09:14</td>\n",
              "      <td>1</td>\n",
              "      <td>81</td>\n",
              "      <td>57227</td>\n",
              "      <td>87</td>\n",
              "      <td>16986</td>\n",
              "      <td>941</td>\n",
              "      <td>94.0</td>\n",
              "      <td>Dry</td>\n",
              "      <td>7.0</td>\n",
              "      <td>clear</td>\n",
              "      <td>None</td>\n",
              "      <td>95.0</td>\n",
              "      <td>146.0</td>\n",
              "      <td>1.0</td>\n",
              "      <td>daylight</td>\n",
              "      <td>1265</td>\n",
              "      <td>10243</td>\n",
              "      <td>2</td>\n",
              "      <td>2</td>\n",
              "    </tr>\n",
              "    <tr>\n",
              "      <th>1</th>\n",
              "      <td>DR_24526</td>\n",
              "      <td>21-03-2012 09:15</td>\n",
              "      <td>1</td>\n",
              "      <td>88</td>\n",
              "      <td>57229</td>\n",
              "      <td>81</td>\n",
              "      <td>1708</td>\n",
              "      <td>551</td>\n",
              "      <td>11.0</td>\n",
              "      <td>Dry</td>\n",
              "      <td>7.0</td>\n",
              "      <td>clear</td>\n",
              "      <td>None</td>\n",
              "      <td>95.0</td>\n",
              "      <td>124.0</td>\n",
              "      <td>0.0</td>\n",
              "      <td>daylight</td>\n",
              "      <td>1265</td>\n",
              "      <td>10243</td>\n",
              "      <td>2</td>\n",
              "      <td>2</td>\n",
              "    </tr>\n",
              "    <tr>\n",
              "      <th>2</th>\n",
              "      <td>DR_24526</td>\n",
              "      <td>21-03-2012 09:15</td>\n",
              "      <td>1</td>\n",
              "      <td>88</td>\n",
              "      <td>57230</td>\n",
              "      <td>88</td>\n",
              "      <td>22892</td>\n",
              "      <td>1698</td>\n",
              "      <td>4.0</td>\n",
              "      <td>Dry</td>\n",
              "      <td>7.0</td>\n",
              "      <td>clear</td>\n",
              "      <td>None</td>\n",
              "      <td>95.0</td>\n",
              "      <td>124.0</td>\n",
              "      <td>0.0</td>\n",
              "      <td>daylight</td>\n",
              "      <td>1265</td>\n",
              "      <td>10243</td>\n",
              "      <td>2</td>\n",
              "      <td>2</td>\n",
              "    </tr>\n",
              "    <tr>\n",
              "      <th>3</th>\n",
              "      <td>DR_24526</td>\n",
              "      <td>21-03-2012 09:15</td>\n",
              "      <td>2</td>\n",
              "      <td>84</td>\n",
              "      <td>57228</td>\n",
              "      <td>89</td>\n",
              "      <td>1945</td>\n",
              "      <td>544</td>\n",
              "      <td>127.0</td>\n",
              "      <td>Dry</td>\n",
              "      <td>7.0</td>\n",
              "      <td>clear</td>\n",
              "      <td>None</td>\n",
              "      <td>95.0</td>\n",
              "      <td>124.0</td>\n",
              "      <td>0.0</td>\n",
              "      <td>daylight</td>\n",
              "      <td>1265</td>\n",
              "      <td>10243</td>\n",
              "      <td>2</td>\n",
              "      <td>2</td>\n",
              "    </tr>\n",
              "    <tr>\n",
              "      <th>4</th>\n",
              "      <td>DR_24526</td>\n",
              "      <td>21-03-2012 09:15</td>\n",
              "      <td>1</td>\n",
              "      <td>89</td>\n",
              "      <td>57231</td>\n",
              "      <td>88</td>\n",
              "      <td>13787</td>\n",
              "      <td>1893</td>\n",
              "      <td>42.0</td>\n",
              "      <td>Dry</td>\n",
              "      <td>7.0</td>\n",
              "      <td>clear</td>\n",
              "      <td>None</td>\n",
              "      <td>95.0</td>\n",
              "      <td>124.0</td>\n",
              "      <td>0.0</td>\n",
              "      <td>daylight</td>\n",
              "      <td>1265</td>\n",
              "      <td>10243</td>\n",
              "      <td>2</td>\n",
              "      <td>2</td>\n",
              "    </tr>\n",
              "  </tbody>\n",
              "</table>\n",
              "</div>"
            ],
            "text/plain": [
              "         ID         Date_time  ...  Number_of_axles  DrivingStyle\n",
              "0  DR_24526  21-03-2012 09:14  ...                2             2\n",
              "1  DR_24526  21-03-2012 09:15  ...                2             2\n",
              "2  DR_24526  21-03-2012 09:15  ...                2             2\n",
              "3  DR_24526  21-03-2012 09:15  ...                2             2\n",
              "4  DR_24526  21-03-2012 09:15  ...                2             2\n",
              "\n",
              "[5 rows x 21 columns]"
            ]
          },
          "metadata": {
            "tags": []
          },
          "execution_count": 14
        }
      ]
    },
    {
      "cell_type": "code",
      "metadata": {
        "colab": {
          "base_uri": "https://localhost:8080/",
          "height": 542
        },
        "id": "lhtPMP1gU4CC",
        "outputId": "b13eab85-331c-45ba-a181-3c4ed213d114"
      },
      "source": [
        "# Let's see the count of target variable\n",
        "driving_style_df = cons_df['DrivingStyle'].value_counts().to_frame()\n",
        "driving_style_df.columns = ['count']\n",
        "driving_style_df['Labels'] = driving_style_df.index\n",
        "fig = px.bar(driving_style_df, x='Labels', y='count')\n",
        "fig.show()"
      ],
      "execution_count": 15,
      "outputs": [
        {
          "output_type": "display_data",
          "data": {
            "text/html": [
              "<html>\n",
              "<head><meta charset=\"utf-8\" /></head>\n",
              "<body>\n",
              "    <div>\n",
              "            <script src=\"https://cdnjs.cloudflare.com/ajax/libs/mathjax/2.7.5/MathJax.js?config=TeX-AMS-MML_SVG\"></script><script type=\"text/javascript\">if (window.MathJax) {MathJax.Hub.Config({SVG: {font: \"STIX-Web\"}});}</script>\n",
              "                <script type=\"text/javascript\">window.PlotlyConfig = {MathJaxConfig: 'local'};</script>\n",
              "        <script src=\"https://cdn.plot.ly/plotly-latest.min.js\"></script>    \n",
              "            <div id=\"54b2d531-b40e-4c39-9529-cde835f7ad63\" class=\"plotly-graph-div\" style=\"height:525px; width:100%;\"></div>\n",
              "            <script type=\"text/javascript\">\n",
              "                \n",
              "                    window.PLOTLYENV=window.PLOTLYENV || {};\n",
              "                    \n",
              "                if (document.getElementById(\"54b2d531-b40e-4c39-9529-cde835f7ad63\")) {\n",
              "                    Plotly.newPlot(\n",
              "                        '54b2d531-b40e-4c39-9529-cde835f7ad63',\n",
              "                        [{\"alignmentgroup\": \"True\", \"hoverlabel\": {\"namelength\": 0}, \"hovertemplate\": \"Labels=%{x}<br>count=%{y}\", \"legendgroup\": \"\", \"marker\": {\"color\": \"#636efa\"}, \"name\": \"\", \"offsetgroup\": \"\", \"orientation\": \"v\", \"showlegend\": false, \"textposition\": \"auto\", \"type\": \"bar\", \"x\": [2, 3, 1], \"xaxis\": \"x\", \"y\": [86478, 50014, 26074], \"yaxis\": \"y\"}],\n",
              "                        {\"barmode\": \"relative\", \"legend\": {\"tracegroupgap\": 0}, \"margin\": {\"t\": 60}, \"template\": {\"data\": {\"bar\": [{\"error_x\": {\"color\": \"#2a3f5f\"}, \"error_y\": {\"color\": \"#2a3f5f\"}, \"marker\": {\"line\": {\"color\": \"#E5ECF6\", \"width\": 0.5}}, \"type\": \"bar\"}], \"barpolar\": [{\"marker\": {\"line\": {\"color\": \"#E5ECF6\", \"width\": 0.5}}, \"type\": \"barpolar\"}], \"carpet\": [{\"aaxis\": {\"endlinecolor\": \"#2a3f5f\", \"gridcolor\": \"white\", \"linecolor\": \"white\", \"minorgridcolor\": \"white\", \"startlinecolor\": \"#2a3f5f\"}, \"baxis\": {\"endlinecolor\": \"#2a3f5f\", \"gridcolor\": \"white\", \"linecolor\": \"white\", \"minorgridcolor\": \"white\", \"startlinecolor\": \"#2a3f5f\"}, \"type\": \"carpet\"}], \"choropleth\": [{\"colorbar\": {\"outlinewidth\": 0, \"ticks\": \"\"}, \"type\": \"choropleth\"}], \"contour\": [{\"colorbar\": {\"outlinewidth\": 0, \"ticks\": \"\"}, \"colorscale\": [[0.0, \"#0d0887\"], [0.1111111111111111, \"#46039f\"], [0.2222222222222222, \"#7201a8\"], [0.3333333333333333, \"#9c179e\"], [0.4444444444444444, \"#bd3786\"], [0.5555555555555556, \"#d8576b\"], [0.6666666666666666, \"#ed7953\"], [0.7777777777777778, \"#fb9f3a\"], [0.8888888888888888, \"#fdca26\"], [1.0, \"#f0f921\"]], \"type\": \"contour\"}], \"contourcarpet\": [{\"colorbar\": {\"outlinewidth\": 0, \"ticks\": \"\"}, \"type\": \"contourcarpet\"}], \"heatmap\": [{\"colorbar\": {\"outlinewidth\": 0, \"ticks\": \"\"}, \"colorscale\": [[0.0, \"#0d0887\"], [0.1111111111111111, \"#46039f\"], [0.2222222222222222, \"#7201a8\"], [0.3333333333333333, \"#9c179e\"], [0.4444444444444444, \"#bd3786\"], [0.5555555555555556, \"#d8576b\"], [0.6666666666666666, \"#ed7953\"], [0.7777777777777778, \"#fb9f3a\"], [0.8888888888888888, \"#fdca26\"], [1.0, \"#f0f921\"]], \"type\": \"heatmap\"}], \"heatmapgl\": [{\"colorbar\": {\"outlinewidth\": 0, \"ticks\": \"\"}, \"colorscale\": [[0.0, \"#0d0887\"], [0.1111111111111111, \"#46039f\"], [0.2222222222222222, \"#7201a8\"], [0.3333333333333333, \"#9c179e\"], [0.4444444444444444, \"#bd3786\"], [0.5555555555555556, \"#d8576b\"], [0.6666666666666666, \"#ed7953\"], [0.7777777777777778, \"#fb9f3a\"], [0.8888888888888888, \"#fdca26\"], [1.0, \"#f0f921\"]], \"type\": \"heatmapgl\"}], \"histogram\": [{\"marker\": {\"colorbar\": {\"outlinewidth\": 0, \"ticks\": \"\"}}, \"type\": \"histogram\"}], \"histogram2d\": [{\"colorbar\": {\"outlinewidth\": 0, \"ticks\": \"\"}, \"colorscale\": [[0.0, \"#0d0887\"], [0.1111111111111111, \"#46039f\"], [0.2222222222222222, \"#7201a8\"], [0.3333333333333333, \"#9c179e\"], [0.4444444444444444, \"#bd3786\"], [0.5555555555555556, \"#d8576b\"], [0.6666666666666666, \"#ed7953\"], [0.7777777777777778, \"#fb9f3a\"], [0.8888888888888888, \"#fdca26\"], [1.0, \"#f0f921\"]], \"type\": \"histogram2d\"}], \"histogram2dcontour\": [{\"colorbar\": {\"outlinewidth\": 0, \"ticks\": \"\"}, \"colorscale\": [[0.0, \"#0d0887\"], [0.1111111111111111, \"#46039f\"], [0.2222222222222222, \"#7201a8\"], [0.3333333333333333, \"#9c179e\"], [0.4444444444444444, \"#bd3786\"], [0.5555555555555556, \"#d8576b\"], [0.6666666666666666, \"#ed7953\"], [0.7777777777777778, \"#fb9f3a\"], [0.8888888888888888, \"#fdca26\"], [1.0, \"#f0f921\"]], \"type\": \"histogram2dcontour\"}], \"mesh3d\": [{\"colorbar\": {\"outlinewidth\": 0, \"ticks\": \"\"}, \"type\": \"mesh3d\"}], \"parcoords\": [{\"line\": {\"colorbar\": {\"outlinewidth\": 0, \"ticks\": \"\"}}, \"type\": \"parcoords\"}], \"pie\": [{\"automargin\": true, \"type\": \"pie\"}], \"scatter\": [{\"marker\": {\"colorbar\": {\"outlinewidth\": 0, \"ticks\": \"\"}}, \"type\": \"scatter\"}], \"scatter3d\": [{\"line\": {\"colorbar\": {\"outlinewidth\": 0, \"ticks\": \"\"}}, \"marker\": {\"colorbar\": {\"outlinewidth\": 0, \"ticks\": \"\"}}, \"type\": \"scatter3d\"}], \"scattercarpet\": [{\"marker\": {\"colorbar\": {\"outlinewidth\": 0, \"ticks\": \"\"}}, \"type\": \"scattercarpet\"}], \"scattergeo\": [{\"marker\": {\"colorbar\": {\"outlinewidth\": 0, \"ticks\": \"\"}}, \"type\": \"scattergeo\"}], \"scattergl\": [{\"marker\": {\"colorbar\": {\"outlinewidth\": 0, \"ticks\": \"\"}}, \"type\": \"scattergl\"}], \"scattermapbox\": [{\"marker\": {\"colorbar\": {\"outlinewidth\": 0, \"ticks\": \"\"}}, \"type\": \"scattermapbox\"}], \"scatterpolar\": [{\"marker\": {\"colorbar\": {\"outlinewidth\": 0, \"ticks\": \"\"}}, \"type\": \"scatterpolar\"}], \"scatterpolargl\": [{\"marker\": {\"colorbar\": {\"outlinewidth\": 0, \"ticks\": \"\"}}, \"type\": \"scatterpolargl\"}], \"scatterternary\": [{\"marker\": {\"colorbar\": {\"outlinewidth\": 0, \"ticks\": \"\"}}, \"type\": \"scatterternary\"}], \"surface\": [{\"colorbar\": {\"outlinewidth\": 0, \"ticks\": \"\"}, \"colorscale\": [[0.0, \"#0d0887\"], [0.1111111111111111, \"#46039f\"], [0.2222222222222222, \"#7201a8\"], [0.3333333333333333, \"#9c179e\"], [0.4444444444444444, \"#bd3786\"], [0.5555555555555556, \"#d8576b\"], [0.6666666666666666, \"#ed7953\"], [0.7777777777777778, \"#fb9f3a\"], [0.8888888888888888, \"#fdca26\"], [1.0, \"#f0f921\"]], \"type\": \"surface\"}], \"table\": [{\"cells\": {\"fill\": {\"color\": \"#EBF0F8\"}, \"line\": {\"color\": \"white\"}}, \"header\": {\"fill\": {\"color\": \"#C8D4E3\"}, \"line\": {\"color\": \"white\"}}, \"type\": \"table\"}]}, \"layout\": {\"annotationdefaults\": {\"arrowcolor\": \"#2a3f5f\", \"arrowhead\": 0, \"arrowwidth\": 1}, \"coloraxis\": {\"colorbar\": {\"outlinewidth\": 0, \"ticks\": \"\"}}, \"colorscale\": {\"diverging\": [[0, \"#8e0152\"], [0.1, \"#c51b7d\"], [0.2, \"#de77ae\"], [0.3, \"#f1b6da\"], [0.4, \"#fde0ef\"], [0.5, \"#f7f7f7\"], [0.6, \"#e6f5d0\"], [0.7, \"#b8e186\"], [0.8, \"#7fbc41\"], [0.9, \"#4d9221\"], [1, \"#276419\"]], \"sequential\": [[0.0, \"#0d0887\"], [0.1111111111111111, \"#46039f\"], [0.2222222222222222, \"#7201a8\"], [0.3333333333333333, \"#9c179e\"], [0.4444444444444444, \"#bd3786\"], [0.5555555555555556, \"#d8576b\"], [0.6666666666666666, \"#ed7953\"], [0.7777777777777778, \"#fb9f3a\"], [0.8888888888888888, \"#fdca26\"], [1.0, \"#f0f921\"]], \"sequentialminus\": [[0.0, \"#0d0887\"], [0.1111111111111111, \"#46039f\"], [0.2222222222222222, \"#7201a8\"], [0.3333333333333333, \"#9c179e\"], [0.4444444444444444, \"#bd3786\"], [0.5555555555555556, \"#d8576b\"], [0.6666666666666666, \"#ed7953\"], [0.7777777777777778, \"#fb9f3a\"], [0.8888888888888888, \"#fdca26\"], [1.0, \"#f0f921\"]]}, \"colorway\": [\"#636efa\", \"#EF553B\", \"#00cc96\", \"#ab63fa\", \"#FFA15A\", \"#19d3f3\", \"#FF6692\", \"#B6E880\", \"#FF97FF\", \"#FECB52\"], \"font\": {\"color\": \"#2a3f5f\"}, \"geo\": {\"bgcolor\": \"white\", \"lakecolor\": \"white\", \"landcolor\": \"#E5ECF6\", \"showlakes\": true, \"showland\": true, \"subunitcolor\": \"white\"}, \"hoverlabel\": {\"align\": \"left\"}, \"hovermode\": \"closest\", \"mapbox\": {\"style\": \"light\"}, \"paper_bgcolor\": \"white\", \"plot_bgcolor\": \"#E5ECF6\", \"polar\": {\"angularaxis\": {\"gridcolor\": \"white\", \"linecolor\": \"white\", \"ticks\": \"\"}, \"bgcolor\": \"#E5ECF6\", \"radialaxis\": {\"gridcolor\": \"white\", \"linecolor\": \"white\", \"ticks\": \"\"}}, \"scene\": {\"xaxis\": {\"backgroundcolor\": \"#E5ECF6\", \"gridcolor\": \"white\", \"gridwidth\": 2, \"linecolor\": \"white\", \"showbackground\": true, \"ticks\": \"\", \"zerolinecolor\": \"white\"}, \"yaxis\": {\"backgroundcolor\": \"#E5ECF6\", \"gridcolor\": \"white\", \"gridwidth\": 2, \"linecolor\": \"white\", \"showbackground\": true, \"ticks\": \"\", \"zerolinecolor\": \"white\"}, \"zaxis\": {\"backgroundcolor\": \"#E5ECF6\", \"gridcolor\": \"white\", \"gridwidth\": 2, \"linecolor\": \"white\", \"showbackground\": true, \"ticks\": \"\", \"zerolinecolor\": \"white\"}}, \"shapedefaults\": {\"line\": {\"color\": \"#2a3f5f\"}}, \"ternary\": {\"aaxis\": {\"gridcolor\": \"white\", \"linecolor\": \"white\", \"ticks\": \"\"}, \"baxis\": {\"gridcolor\": \"white\", \"linecolor\": \"white\", \"ticks\": \"\"}, \"bgcolor\": \"#E5ECF6\", \"caxis\": {\"gridcolor\": \"white\", \"linecolor\": \"white\", \"ticks\": \"\"}}, \"title\": {\"x\": 0.05}, \"xaxis\": {\"automargin\": true, \"gridcolor\": \"white\", \"linecolor\": \"white\", \"ticks\": \"\", \"title\": {\"standoff\": 15}, \"zerolinecolor\": \"white\", \"zerolinewidth\": 2}, \"yaxis\": {\"automargin\": true, \"gridcolor\": \"white\", \"linecolor\": \"white\", \"ticks\": \"\", \"title\": {\"standoff\": 15}, \"zerolinecolor\": \"white\", \"zerolinewidth\": 2}}}, \"xaxis\": {\"anchor\": \"y\", \"domain\": [0.0, 1.0], \"title\": {\"text\": \"Labels\"}}, \"yaxis\": {\"anchor\": \"x\", \"domain\": [0.0, 1.0], \"title\": {\"text\": \"count\"}}},\n",
              "                        {\"responsive\": true}\n",
              "                    ).then(function(){\n",
              "                            \n",
              "var gd = document.getElementById('54b2d531-b40e-4c39-9529-cde835f7ad63');\n",
              "var x = new MutationObserver(function (mutations, observer) {{\n",
              "        var display = window.getComputedStyle(gd).display;\n",
              "        if (!display || display === 'none') {{\n",
              "            console.log([gd, 'removed!']);\n",
              "            Plotly.purge(gd);\n",
              "            observer.disconnect();\n",
              "        }}\n",
              "}});\n",
              "\n",
              "// Listen for the removal of the full notebook cells\n",
              "var notebookContainer = gd.closest('#notebook-container');\n",
              "if (notebookContainer) {{\n",
              "    x.observe(notebookContainer, {childList: true});\n",
              "}}\n",
              "\n",
              "// Listen for the clearing of the current output cell\n",
              "var outputEl = gd.closest('.output');\n",
              "if (outputEl) {{\n",
              "    x.observe(outputEl, {childList: true});\n",
              "}}\n",
              "\n",
              "                        })\n",
              "                };\n",
              "                \n",
              "            </script>\n",
              "        </div>\n",
              "</body>\n",
              "</html>"
            ]
          },
          "metadata": {
            "tags": []
          }
        }
      ]
    },
    {
      "cell_type": "code",
      "metadata": {
        "colab": {
          "base_uri": "https://localhost:8080/",
          "height": 542
        },
        "id": "kQAkwdhaU5b7",
        "outputId": "aa5eb5c8-16a6-47d7-cb2d-1095886a359e"
      },
      "source": [
        "# Count of missing values in columns\n",
        "missing_values = cons_df.isnull().sum()\n",
        "missing_values = missing_values[missing_values > 0].sort_values()\n",
        "\n",
        "missing_values = missing_values.to_frame()\n",
        "missing_values.columns = ['count']\n",
        "missing_values.index.names = ['Name']\n",
        "missing_values['Name'] = missing_values.index\n",
        "\n",
        "fig = px.bar(missing_values, x='Name', y='count')\n",
        "fig.show()"
      ],
      "execution_count": 16,
      "outputs": [
        {
          "output_type": "display_data",
          "data": {
            "text/html": [
              "<html>\n",
              "<head><meta charset=\"utf-8\" /></head>\n",
              "<body>\n",
              "    <div>\n",
              "            <script src=\"https://cdnjs.cloudflare.com/ajax/libs/mathjax/2.7.5/MathJax.js?config=TeX-AMS-MML_SVG\"></script><script type=\"text/javascript\">if (window.MathJax) {MathJax.Hub.Config({SVG: {font: \"STIX-Web\"}});}</script>\n",
              "                <script type=\"text/javascript\">window.PlotlyConfig = {MathJaxConfig: 'local'};</script>\n",
              "        <script src=\"https://cdn.plot.ly/plotly-latest.min.js\"></script>    \n",
              "            <div id=\"12eb48a3-5155-4a3b-be5e-c1350aee26ea\" class=\"plotly-graph-div\" style=\"height:525px; width:100%;\"></div>\n",
              "            <script type=\"text/javascript\">\n",
              "                \n",
              "                    window.PLOTLYENV=window.PLOTLYENV || {};\n",
              "                    \n",
              "                if (document.getElementById(\"12eb48a3-5155-4a3b-be5e-c1350aee26ea\")) {\n",
              "                    Plotly.newPlot(\n",
              "                        '12eb48a3-5155-4a3b-be5e-c1350aee26ea',\n",
              "                        [{\"alignmentgroup\": \"True\", \"hoverlabel\": {\"namelength\": 0}, \"hovertemplate\": \"Name=%{x}<br>count=%{y}\", \"legendgroup\": \"\", \"marker\": {\"color\": \"#636efa\"}, \"name\": \"\", \"offsetgroup\": \"\", \"orientation\": \"v\", \"showlegend\": false, \"textposition\": \"auto\", \"type\": \"bar\", \"x\": [\"Time_gap_with_the_preceeding_vehicle_in_seconds\", \"Precipitation\", \"Precipitation_intensity\", \"Day_time\", \"Weather_details-Air_temperature\", \"Relative_humidity\", \"Wind_direction\", \"Wind_speed_in_m/s\"], \"xaxis\": \"x\", \"y\": [2455, 85745, 85745, 85745, 86774, 86796, 86797, 86963], \"yaxis\": \"y\"}],\n",
              "                        {\"barmode\": \"relative\", \"legend\": {\"tracegroupgap\": 0}, \"margin\": {\"t\": 60}, \"template\": {\"data\": {\"bar\": [{\"error_x\": {\"color\": \"#2a3f5f\"}, \"error_y\": {\"color\": \"#2a3f5f\"}, \"marker\": {\"line\": {\"color\": \"#E5ECF6\", \"width\": 0.5}}, \"type\": \"bar\"}], \"barpolar\": [{\"marker\": {\"line\": {\"color\": \"#E5ECF6\", \"width\": 0.5}}, \"type\": \"barpolar\"}], \"carpet\": [{\"aaxis\": {\"endlinecolor\": \"#2a3f5f\", \"gridcolor\": \"white\", \"linecolor\": \"white\", \"minorgridcolor\": \"white\", \"startlinecolor\": \"#2a3f5f\"}, \"baxis\": {\"endlinecolor\": \"#2a3f5f\", \"gridcolor\": \"white\", \"linecolor\": \"white\", \"minorgridcolor\": \"white\", \"startlinecolor\": \"#2a3f5f\"}, \"type\": \"carpet\"}], \"choropleth\": [{\"colorbar\": {\"outlinewidth\": 0, \"ticks\": \"\"}, \"type\": \"choropleth\"}], \"contour\": [{\"colorbar\": {\"outlinewidth\": 0, \"ticks\": \"\"}, \"colorscale\": [[0.0, \"#0d0887\"], [0.1111111111111111, \"#46039f\"], [0.2222222222222222, \"#7201a8\"], [0.3333333333333333, \"#9c179e\"], [0.4444444444444444, \"#bd3786\"], [0.5555555555555556, \"#d8576b\"], [0.6666666666666666, \"#ed7953\"], [0.7777777777777778, \"#fb9f3a\"], [0.8888888888888888, \"#fdca26\"], [1.0, \"#f0f921\"]], \"type\": \"contour\"}], \"contourcarpet\": [{\"colorbar\": {\"outlinewidth\": 0, \"ticks\": \"\"}, \"type\": \"contourcarpet\"}], \"heatmap\": [{\"colorbar\": {\"outlinewidth\": 0, \"ticks\": \"\"}, \"colorscale\": [[0.0, \"#0d0887\"], [0.1111111111111111, \"#46039f\"], [0.2222222222222222, \"#7201a8\"], [0.3333333333333333, \"#9c179e\"], [0.4444444444444444, \"#bd3786\"], [0.5555555555555556, \"#d8576b\"], [0.6666666666666666, \"#ed7953\"], [0.7777777777777778, \"#fb9f3a\"], [0.8888888888888888, \"#fdca26\"], [1.0, \"#f0f921\"]], \"type\": \"heatmap\"}], \"heatmapgl\": [{\"colorbar\": {\"outlinewidth\": 0, \"ticks\": \"\"}, \"colorscale\": [[0.0, \"#0d0887\"], [0.1111111111111111, \"#46039f\"], [0.2222222222222222, \"#7201a8\"], [0.3333333333333333, \"#9c179e\"], [0.4444444444444444, \"#bd3786\"], [0.5555555555555556, \"#d8576b\"], [0.6666666666666666, \"#ed7953\"], [0.7777777777777778, \"#fb9f3a\"], [0.8888888888888888, \"#fdca26\"], [1.0, \"#f0f921\"]], \"type\": \"heatmapgl\"}], \"histogram\": [{\"marker\": {\"colorbar\": {\"outlinewidth\": 0, \"ticks\": \"\"}}, \"type\": \"histogram\"}], \"histogram2d\": [{\"colorbar\": {\"outlinewidth\": 0, \"ticks\": \"\"}, \"colorscale\": [[0.0, \"#0d0887\"], [0.1111111111111111, \"#46039f\"], [0.2222222222222222, \"#7201a8\"], [0.3333333333333333, \"#9c179e\"], [0.4444444444444444, \"#bd3786\"], [0.5555555555555556, \"#d8576b\"], [0.6666666666666666, \"#ed7953\"], [0.7777777777777778, \"#fb9f3a\"], [0.8888888888888888, \"#fdca26\"], [1.0, \"#f0f921\"]], \"type\": \"histogram2d\"}], \"histogram2dcontour\": [{\"colorbar\": {\"outlinewidth\": 0, \"ticks\": \"\"}, \"colorscale\": [[0.0, \"#0d0887\"], [0.1111111111111111, \"#46039f\"], [0.2222222222222222, \"#7201a8\"], [0.3333333333333333, \"#9c179e\"], [0.4444444444444444, \"#bd3786\"], [0.5555555555555556, \"#d8576b\"], [0.6666666666666666, \"#ed7953\"], [0.7777777777777778, \"#fb9f3a\"], [0.8888888888888888, \"#fdca26\"], [1.0, \"#f0f921\"]], \"type\": \"histogram2dcontour\"}], \"mesh3d\": [{\"colorbar\": {\"outlinewidth\": 0, \"ticks\": \"\"}, \"type\": \"mesh3d\"}], \"parcoords\": [{\"line\": {\"colorbar\": {\"outlinewidth\": 0, \"ticks\": \"\"}}, \"type\": \"parcoords\"}], \"pie\": [{\"automargin\": true, \"type\": \"pie\"}], \"scatter\": [{\"marker\": {\"colorbar\": {\"outlinewidth\": 0, \"ticks\": \"\"}}, \"type\": \"scatter\"}], \"scatter3d\": [{\"line\": {\"colorbar\": {\"outlinewidth\": 0, \"ticks\": \"\"}}, \"marker\": {\"colorbar\": {\"outlinewidth\": 0, \"ticks\": \"\"}}, \"type\": \"scatter3d\"}], \"scattercarpet\": [{\"marker\": {\"colorbar\": {\"outlinewidth\": 0, \"ticks\": \"\"}}, \"type\": \"scattercarpet\"}], \"scattergeo\": [{\"marker\": {\"colorbar\": {\"outlinewidth\": 0, \"ticks\": \"\"}}, \"type\": \"scattergeo\"}], \"scattergl\": [{\"marker\": {\"colorbar\": {\"outlinewidth\": 0, \"ticks\": \"\"}}, \"type\": \"scattergl\"}], \"scattermapbox\": [{\"marker\": {\"colorbar\": {\"outlinewidth\": 0, \"ticks\": \"\"}}, \"type\": \"scattermapbox\"}], \"scatterpolar\": [{\"marker\": {\"colorbar\": {\"outlinewidth\": 0, \"ticks\": \"\"}}, \"type\": \"scatterpolar\"}], \"scatterpolargl\": [{\"marker\": {\"colorbar\": {\"outlinewidth\": 0, \"ticks\": \"\"}}, \"type\": \"scatterpolargl\"}], \"scatterternary\": [{\"marker\": {\"colorbar\": {\"outlinewidth\": 0, \"ticks\": \"\"}}, \"type\": \"scatterternary\"}], \"surface\": [{\"colorbar\": {\"outlinewidth\": 0, \"ticks\": \"\"}, \"colorscale\": [[0.0, \"#0d0887\"], [0.1111111111111111, \"#46039f\"], [0.2222222222222222, \"#7201a8\"], [0.3333333333333333, \"#9c179e\"], [0.4444444444444444, \"#bd3786\"], [0.5555555555555556, \"#d8576b\"], [0.6666666666666666, \"#ed7953\"], [0.7777777777777778, \"#fb9f3a\"], [0.8888888888888888, \"#fdca26\"], [1.0, \"#f0f921\"]], \"type\": \"surface\"}], \"table\": [{\"cells\": {\"fill\": {\"color\": \"#EBF0F8\"}, \"line\": {\"color\": \"white\"}}, \"header\": {\"fill\": {\"color\": \"#C8D4E3\"}, \"line\": {\"color\": \"white\"}}, \"type\": \"table\"}]}, \"layout\": {\"annotationdefaults\": {\"arrowcolor\": \"#2a3f5f\", \"arrowhead\": 0, \"arrowwidth\": 1}, \"coloraxis\": {\"colorbar\": {\"outlinewidth\": 0, \"ticks\": \"\"}}, \"colorscale\": {\"diverging\": [[0, \"#8e0152\"], [0.1, \"#c51b7d\"], [0.2, \"#de77ae\"], [0.3, \"#f1b6da\"], [0.4, \"#fde0ef\"], [0.5, \"#f7f7f7\"], [0.6, \"#e6f5d0\"], [0.7, \"#b8e186\"], [0.8, \"#7fbc41\"], [0.9, \"#4d9221\"], [1, \"#276419\"]], \"sequential\": [[0.0, \"#0d0887\"], [0.1111111111111111, \"#46039f\"], [0.2222222222222222, \"#7201a8\"], [0.3333333333333333, \"#9c179e\"], [0.4444444444444444, \"#bd3786\"], [0.5555555555555556, \"#d8576b\"], [0.6666666666666666, \"#ed7953\"], [0.7777777777777778, \"#fb9f3a\"], [0.8888888888888888, \"#fdca26\"], [1.0, \"#f0f921\"]], \"sequentialminus\": [[0.0, \"#0d0887\"], [0.1111111111111111, \"#46039f\"], [0.2222222222222222, \"#7201a8\"], [0.3333333333333333, \"#9c179e\"], [0.4444444444444444, \"#bd3786\"], [0.5555555555555556, \"#d8576b\"], [0.6666666666666666, \"#ed7953\"], [0.7777777777777778, \"#fb9f3a\"], [0.8888888888888888, \"#fdca26\"], [1.0, \"#f0f921\"]]}, \"colorway\": [\"#636efa\", \"#EF553B\", \"#00cc96\", \"#ab63fa\", \"#FFA15A\", \"#19d3f3\", \"#FF6692\", \"#B6E880\", \"#FF97FF\", \"#FECB52\"], \"font\": {\"color\": \"#2a3f5f\"}, \"geo\": {\"bgcolor\": \"white\", \"lakecolor\": \"white\", \"landcolor\": \"#E5ECF6\", \"showlakes\": true, \"showland\": true, \"subunitcolor\": \"white\"}, \"hoverlabel\": {\"align\": \"left\"}, \"hovermode\": \"closest\", \"mapbox\": {\"style\": \"light\"}, \"paper_bgcolor\": \"white\", \"plot_bgcolor\": \"#E5ECF6\", \"polar\": {\"angularaxis\": {\"gridcolor\": \"white\", \"linecolor\": \"white\", \"ticks\": \"\"}, \"bgcolor\": \"#E5ECF6\", \"radialaxis\": {\"gridcolor\": \"white\", \"linecolor\": \"white\", \"ticks\": \"\"}}, \"scene\": {\"xaxis\": {\"backgroundcolor\": \"#E5ECF6\", \"gridcolor\": \"white\", \"gridwidth\": 2, \"linecolor\": \"white\", \"showbackground\": true, \"ticks\": \"\", \"zerolinecolor\": \"white\"}, \"yaxis\": {\"backgroundcolor\": \"#E5ECF6\", \"gridcolor\": \"white\", \"gridwidth\": 2, \"linecolor\": \"white\", \"showbackground\": true, \"ticks\": \"\", \"zerolinecolor\": \"white\"}, \"zaxis\": {\"backgroundcolor\": \"#E5ECF6\", \"gridcolor\": \"white\", \"gridwidth\": 2, \"linecolor\": \"white\", \"showbackground\": true, \"ticks\": \"\", \"zerolinecolor\": \"white\"}}, \"shapedefaults\": {\"line\": {\"color\": \"#2a3f5f\"}}, \"ternary\": {\"aaxis\": {\"gridcolor\": \"white\", \"linecolor\": \"white\", \"ticks\": \"\"}, \"baxis\": {\"gridcolor\": \"white\", \"linecolor\": \"white\", \"ticks\": \"\"}, \"bgcolor\": \"#E5ECF6\", \"caxis\": {\"gridcolor\": \"white\", \"linecolor\": \"white\", \"ticks\": \"\"}}, \"title\": {\"x\": 0.05}, \"xaxis\": {\"automargin\": true, \"gridcolor\": \"white\", \"linecolor\": \"white\", \"ticks\": \"\", \"title\": {\"standoff\": 15}, \"zerolinecolor\": \"white\", \"zerolinewidth\": 2}, \"yaxis\": {\"automargin\": true, \"gridcolor\": \"white\", \"linecolor\": \"white\", \"ticks\": \"\", \"title\": {\"standoff\": 15}, \"zerolinecolor\": \"white\", \"zerolinewidth\": 2}}}, \"xaxis\": {\"anchor\": \"y\", \"domain\": [0.0, 1.0], \"title\": {\"text\": \"Name\"}}, \"yaxis\": {\"anchor\": \"x\", \"domain\": [0.0, 1.0], \"title\": {\"text\": \"count\"}}},\n",
              "                        {\"responsive\": true}\n",
              "                    ).then(function(){\n",
              "                            \n",
              "var gd = document.getElementById('12eb48a3-5155-4a3b-be5e-c1350aee26ea');\n",
              "var x = new MutationObserver(function (mutations, observer) {{\n",
              "        var display = window.getComputedStyle(gd).display;\n",
              "        if (!display || display === 'none') {{\n",
              "            console.log([gd, 'removed!']);\n",
              "            Plotly.purge(gd);\n",
              "            observer.disconnect();\n",
              "        }}\n",
              "}});\n",
              "\n",
              "// Listen for the removal of the full notebook cells\n",
              "var notebookContainer = gd.closest('#notebook-container');\n",
              "if (notebookContainer) {{\n",
              "    x.observe(notebookContainer, {childList: true});\n",
              "}}\n",
              "\n",
              "// Listen for the clearing of the current output cell\n",
              "var outputEl = gd.closest('.output');\n",
              "if (outputEl) {{\n",
              "    x.observe(outputEl, {childList: true});\n",
              "}}\n",
              "\n",
              "                        })\n",
              "                };\n",
              "                \n",
              "            </script>\n",
              "        </div>\n",
              "</body>\n",
              "</html>"
            ]
          },
          "metadata": {
            "tags": []
          }
        }
      ]
    },
    {
      "cell_type": "code",
      "metadata": {
        "id": "Ojk-A1e0U7mf"
      },
      "source": [
        "cons_df[ ['Road_Condition', 'Precipitation', 'Precipitation_intensity', 'Day_time']] = cons_df[ ['Road_Condition', 'Precipitation', 'Precipitation_intensity', 'Day_time']].astype(str)"
      ],
      "execution_count": 17,
      "outputs": []
    },
    {
      "cell_type": "code",
      "metadata": {
        "id": "XjHfo2y-oQnE"
      },
      "source": [
        "label_encoding_columns = ['Road_Condition', 'Precipitation', 'Precipitation_intensity', 'Day_time']\n",
        "cons_df[label_encoding_columns] = cons_df[label_encoding_columns].apply(LabelEncoder().fit_transform)"
      ],
      "execution_count": 18,
      "outputs": []
    },
    {
      "cell_type": "code",
      "metadata": {
        "id": "I6jc2jWupPc1"
      },
      "source": [
        "train_df = cons_df.drop(columns=['ID_of_the_preceding_vehicle', 'Date_time', 'DrivingStyle'])\n",
        "\n",
        "missing_values_columns = list(missing_values['Name'])\n",
        "\n",
        "for col in missing_values_columns:\n",
        "    train_df[col] = train_df[col].fillna(train_df[col].mean())"
      ],
      "execution_count": 19,
      "outputs": []
    },
    {
      "cell_type": "code",
      "metadata": {
        "id": "eXGY__utpQ91"
      },
      "source": [
        "train_df = train_df.drop(train_df[(train_df['Speed_of_the_vehicle_(kph)'] >140) | (train_df['Speed_of_the_vehicle_(kph)']< 20)].index).reset_index(drop=True)    \n",
        "\n",
        "# Speed Ratio\n",
        "train_df['speed_ratio'] = (train_df['Speed_of_the_vehicle_(kph)']/train_df['Speed_of_the_preceding_vehicle']).clip(0, 2)\n",
        "\n",
        "# Time ratio\n",
        "train_df['time_ratio1'] = (train_df['Time_gap_with_the_preceeding_vehicle_in_seconds']/train_df['Speed_of_the_vehicle_(kph)']).clip(0, 2)\n",
        "train_df['time_ratio2'] = (train_df['Time_gap_with_the_preceeding_vehicle_in_seconds']/train_df['Speed_of_the_preceding_vehicle']).clip(0, 2)\n",
        "\n",
        "# Weight Ratio\n",
        "train_df['weight_ratio'] = (train_df['Weight_of_the_preceding_vehicle']/train_df['weight_of_vehicle_in_kg']).clip(0, 100)"
      ],
      "execution_count": 20,
      "outputs": []
    },
    {
      "cell_type": "code",
      "metadata": {
        "id": "T2IehHxBpS6u"
      },
      "source": [
        "scaling_columns = [\n",
        "    'Speed_of_the_vehicle_(kph)', 'Speed_of_the_preceding_vehicle', 'Length_of_preceding_vehicle',\n",
        "    'Time_gap_with_the_preceeding_vehicle_in_seconds', 'Weather_details-Air_temperature', 'Weight_of_the_preceding_vehicle',\n",
        "    'Relative_humidity', 'Wind_direction', 'Wind_speed_in_m/s', 'Length_of_vehicle_in_cm', 'weight_of_vehicle_in_kg',\n",
        "    'Number_of_axles', 'Number_of_axles'\n",
        "]\n",
        "scaler = StandardScaler()\n",
        "train_df[scaling_columns] = scaler.fit_transform(train_df[scaling_columns])"
      ],
      "execution_count": 21,
      "outputs": []
    },
    {
      "cell_type": "code",
      "metadata": {
        "colab": {
          "base_uri": "https://localhost:8080/",
          "height": 240
        },
        "id": "YwRIu-fYpUev",
        "outputId": "dc2b28a6-075a-4d1d-ddf9-fc66ca6f0f09"
      },
      "source": [
        "train_df.head()"
      ],
      "execution_count": 22,
      "outputs": [
        {
          "output_type": "execute_result",
          "data": {
            "text/html": [
              "<div>\n",
              "<style scoped>\n",
              "    .dataframe tbody tr th:only-of-type {\n",
              "        vertical-align: middle;\n",
              "    }\n",
              "\n",
              "    .dataframe tbody tr th {\n",
              "        vertical-align: top;\n",
              "    }\n",
              "\n",
              "    .dataframe thead th {\n",
              "        text-align: right;\n",
              "    }\n",
              "</style>\n",
              "<table border=\"1\" class=\"dataframe\">\n",
              "  <thead>\n",
              "    <tr style=\"text-align: right;\">\n",
              "      <th></th>\n",
              "      <th>ID</th>\n",
              "      <th>Lane_of_the_road</th>\n",
              "      <th>Speed_of_the_vehicle_(kph)</th>\n",
              "      <th>Speed_of_the_preceding_vehicle</th>\n",
              "      <th>Weight_of_the_preceding_vehicle</th>\n",
              "      <th>Length_of_preceding_vehicle</th>\n",
              "      <th>Time_gap_with_the_preceeding_vehicle_in_seconds</th>\n",
              "      <th>Road_Condition</th>\n",
              "      <th>Weather_details-Air_temperature</th>\n",
              "      <th>Precipitation</th>\n",
              "      <th>Precipitation_intensity</th>\n",
              "      <th>Relative_humidity</th>\n",
              "      <th>Wind_direction</th>\n",
              "      <th>Wind_speed_in_m/s</th>\n",
              "      <th>Day_time</th>\n",
              "      <th>Length_of_vehicle_in_cm</th>\n",
              "      <th>weight_of_vehicle_in_kg</th>\n",
              "      <th>Number_of_axles</th>\n",
              "      <th>speed_ratio</th>\n",
              "      <th>time_ratio1</th>\n",
              "      <th>time_ratio2</th>\n",
              "      <th>weight_ratio</th>\n",
              "    </tr>\n",
              "  </thead>\n",
              "  <tbody>\n",
              "    <tr>\n",
              "      <th>0</th>\n",
              "      <td>DR_24526</td>\n",
              "      <td>1</td>\n",
              "      <td>-0.263373</td>\n",
              "      <td>0.377781</td>\n",
              "      <td>1.617558</td>\n",
              "      <td>0.311769</td>\n",
              "      <td>-0.064408</td>\n",
              "      <td>0</td>\n",
              "      <td>1.08182</td>\n",
              "      <td>0</td>\n",
              "      <td>4</td>\n",
              "      <td>2.702916</td>\n",
              "      <td>-0.600174</td>\n",
              "      <td>-1.577022</td>\n",
              "      <td>0</td>\n",
              "      <td>0.806835</td>\n",
              "      <td>0.529681</td>\n",
              "      <td>-0.577064</td>\n",
              "      <td>0.931034</td>\n",
              "      <td>1.160494</td>\n",
              "      <td>1.080460</td>\n",
              "      <td>1.658303</td>\n",
              "    </tr>\n",
              "    <tr>\n",
              "      <th>1</th>\n",
              "      <td>DR_24526</td>\n",
              "      <td>1</td>\n",
              "      <td>0.487570</td>\n",
              "      <td>-0.262598</td>\n",
              "      <td>-0.447259</td>\n",
              "      <td>-0.497497</td>\n",
              "      <td>-0.536434</td>\n",
              "      <td>0</td>\n",
              "      <td>1.08182</td>\n",
              "      <td>0</td>\n",
              "      <td>4</td>\n",
              "      <td>2.702916</td>\n",
              "      <td>-0.975367</td>\n",
              "      <td>-2.063512</td>\n",
              "      <td>0</td>\n",
              "      <td>0.806835</td>\n",
              "      <td>0.529681</td>\n",
              "      <td>-0.577064</td>\n",
              "      <td>1.086420</td>\n",
              "      <td>0.125000</td>\n",
              "      <td>0.135802</td>\n",
              "      <td>0.166748</td>\n",
              "    </tr>\n",
              "    <tr>\n",
              "      <th>2</th>\n",
              "      <td>DR_24526</td>\n",
              "      <td>1</td>\n",
              "      <td>0.487570</td>\n",
              "      <td>0.484511</td>\n",
              "      <td>2.415752</td>\n",
              "      <td>1.882574</td>\n",
              "      <td>-0.576243</td>\n",
              "      <td>0</td>\n",
              "      <td>1.08182</td>\n",
              "      <td>0</td>\n",
              "      <td>4</td>\n",
              "      <td>2.702916</td>\n",
              "      <td>-0.975367</td>\n",
              "      <td>-2.063512</td>\n",
              "      <td>0</td>\n",
              "      <td>0.806835</td>\n",
              "      <td>0.529681</td>\n",
              "      <td>-0.577064</td>\n",
              "      <td>1.000000</td>\n",
              "      <td>0.045455</td>\n",
              "      <td>0.045455</td>\n",
              "      <td>2.234892</td>\n",
              "    </tr>\n",
              "    <tr>\n",
              "      <th>3</th>\n",
              "      <td>DR_24526</td>\n",
              "      <td>2</td>\n",
              "      <td>0.058460</td>\n",
              "      <td>0.591241</td>\n",
              "      <td>-0.415228</td>\n",
              "      <td>-0.512022</td>\n",
              "      <td>0.123265</td>\n",
              "      <td>0</td>\n",
              "      <td>1.08182</td>\n",
              "      <td>0</td>\n",
              "      <td>4</td>\n",
              "      <td>2.702916</td>\n",
              "      <td>-0.975367</td>\n",
              "      <td>-2.063512</td>\n",
              "      <td>0</td>\n",
              "      <td>0.806835</td>\n",
              "      <td>0.529681</td>\n",
              "      <td>-0.577064</td>\n",
              "      <td>0.943820</td>\n",
              "      <td>1.511905</td>\n",
              "      <td>1.426966</td>\n",
              "      <td>0.189886</td>\n",
              "    </tr>\n",
              "    <tr>\n",
              "      <th>4</th>\n",
              "      <td>DR_24526</td>\n",
              "      <td>1</td>\n",
              "      <td>0.594848</td>\n",
              "      <td>0.484511</td>\n",
              "      <td>1.185214</td>\n",
              "      <td>2.287207</td>\n",
              "      <td>-0.360135</td>\n",
              "      <td>0</td>\n",
              "      <td>1.08182</td>\n",
              "      <td>0</td>\n",
              "      <td>4</td>\n",
              "      <td>2.702916</td>\n",
              "      <td>-0.975367</td>\n",
              "      <td>-2.063512</td>\n",
              "      <td>0</td>\n",
              "      <td>0.806835</td>\n",
              "      <td>0.529681</td>\n",
              "      <td>-0.577064</td>\n",
              "      <td>1.011364</td>\n",
              "      <td>0.471910</td>\n",
              "      <td>0.477273</td>\n",
              "      <td>1.345992</td>\n",
              "    </tr>\n",
              "  </tbody>\n",
              "</table>\n",
              "</div>"
            ],
            "text/plain": [
              "         ID  Lane_of_the_road  ...  time_ratio2  weight_ratio\n",
              "0  DR_24526                 1  ...     1.080460      1.658303\n",
              "1  DR_24526                 1  ...     0.135802      0.166748\n",
              "2  DR_24526                 1  ...     0.045455      2.234892\n",
              "3  DR_24526                 2  ...     1.426966      0.189886\n",
              "4  DR_24526                 1  ...     0.477273      1.345992\n",
              "\n",
              "[5 rows x 22 columns]"
            ]
          },
          "metadata": {
            "tags": []
          },
          "execution_count": 22
        }
      ]
    },
    {
      "cell_type": "code",
      "metadata": {
        "colab": {
          "base_uri": "https://localhost:8080/"
        },
        "id": "bGfcpbXapXKx",
        "outputId": "f7c737d3-2e8c-4325-ea2f-dda1909fb2ac"
      },
      "source": [
        "sequences = list()\n",
        "for name, group in tqdm(train_df.groupby(['ID'])):\n",
        "    sequences.append(group.drop(columns=['ID']).values)"
      ],
      "execution_count": 24,
      "outputs": [
        {
          "output_type": "stream",
          "text": [
            "100%|██████████| 12994/12994 [00:10<00:00, 1193.13it/s]\n"
          ],
          "name": "stderr"
        }
      ]
    },
    {
      "cell_type": "code",
      "metadata": {
        "colab": {
          "base_uri": "https://localhost:8080/"
        },
        "id": "fpmv8Cz_pqQq",
        "outputId": "adc27c5f-0423-42f9-a29b-cd37ed59ce95"
      },
      "source": [
        "sequences[0]"
      ],
      "execution_count": 25,
      "outputs": [
        {
          "output_type": "execute_result",
          "data": {
            "text/plain": [
              "array([[ 2.00000000e+00,  1.02395812e+00, -1.43662665e+00,\n",
              "        -4.82803015e-01, -6.63499947e-01,  7.03345271e-01,\n",
              "         0.00000000e+00, -3.55704927e-05,  1.00000000e+00,\n",
              "         5.00000000e+00, -1.97453056e-05, -3.78786093e-05,\n",
              "        -3.31438279e-05,  1.00000000e+00, -6.33157096e-01,\n",
              "        -5.00825010e-01, -5.77064156e-01,  1.32857143e+00,\n",
              "         2.00000000e+00,  2.00000000e+00,  7.12876172e-01],\n",
              "       [ 2.00000000e+00, -1.01431674e+00,  1.01816060e+00,\n",
              "        -3.91576973e-01, -4.10345070e-01, -5.42121101e-01,\n",
              "         0.00000000e+00, -3.55704927e-05,  1.00000000e+00,\n",
              "         5.00000000e+00, -1.97453056e-05, -3.78786093e-05,\n",
              "        -3.31438279e-05,  1.00000000e+00, -6.33157096e-01,\n",
              "        -5.00825010e-01, -5.77064156e-01,  7.95698925e-01,\n",
              "         1.35135135e-01,  1.07526882e-01,  1.04588061e+00],\n",
              "       [ 1.00000000e+00, -1.44342724e+00, -5.82787607e-01,\n",
              "         1.20305424e+00,  1.97180082e+00,  8.34556156e-02,\n",
              "         0.00000000e+00, -3.55704927e-05,  1.00000000e+00,\n",
              "         5.00000000e+00, -1.97453056e-05, -3.78786093e-05,\n",
              "        -3.31438279e-05,  1.00000000e+00, -6.33157096e-01,\n",
              "        -5.00825010e-01, -5.77064156e-01,  8.97435897e-01,\n",
              "         1.71428571e+00,  1.53846154e+00,  6.86679822e+00],\n",
              "       [ 1.00000000e+00,  9.16680497e-01, -1.43662665e+00,\n",
              "        -4.44150204e-01, -5.72198188e-01,  9.30827713e-01,\n",
              "         0.00000000e+00, -3.55704927e-05,  1.00000000e+00,\n",
              "         5.00000000e+00, -1.97453056e-05, -3.78786093e-05,\n",
              "        -3.31438279e-05,  1.00000000e+00, -6.33157096e-01,\n",
              "        -5.00825010e-01, -5.77064156e-01,  1.31428571e+00,\n",
              "         2.00000000e+00,  2.00000000e+00,  8.53971386e-01],\n",
              "       [ 2.00000000e+00,  1.02395812e+00, -1.00970713e+00,\n",
              "        -4.36581821e-01, -6.24074188e-01,  2.50614363e+00,\n",
              "         0.00000000e+00, -3.55704927e-05,  1.00000000e+00,\n",
              "         5.00000000e+00, -1.97453056e-05, -3.78786093e-05,\n",
              "        -3.31438279e-05,  1.00000000e+00, -6.33157096e-01,\n",
              "        -5.00825010e-01, -5.77064156e-01,  1.25675676e+00,\n",
              "         2.00000000e+00,  2.00000000e+00,  8.81598421e-01]])"
            ]
          },
          "metadata": {
            "tags": []
          },
          "execution_count": 25
        }
      ]
    },
    {
      "cell_type": "code",
      "metadata": {
        "id": "4VwJCNK0qHXI"
      },
      "source": [
        ""
      ],
      "execution_count": null,
      "outputs": []
    }
  ]
}